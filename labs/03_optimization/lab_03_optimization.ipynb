{
 "cells": [
  {
   "cell_type": "markdown",
   "metadata": {},
   "source": [
    "# Finding the minimum of a function"
   ]
  },
  {
   "cell_type": "markdown",
   "metadata": {},
   "source": [
    "One of the most common problems in numerical analysis is to find the minimum of a multivariate function. To be precise, we are often mostly concerned with finding **a** minimum, not **the** minimum:\n",
    "\n",
    "- Global minimum: a point in the domain of a function such that the function is smaller at that point than anywhere else in the domain:\n",
    "\n",
    "$$\n",
    "\\bm{x} \\text{ is a global minimum of } f(\\bm{x})\n",
    "\\Leftrightarrow\n",
    "\\forall \\bm{x}' \\in \\mathbb{R}^{n} \\Rightarrow f(\\bm{x}') \\ge f(\\bm{x})\n",
    "$$\n",
    "\n",
    "- Local minima: points in the domain of a function such that there is a radius (usually really small) around it where the function only goes up. In math notation it looks like this:\n",
    "\n",
    "$$\n",
    "\\bm{x} = (x_1, x_2, \\cdots, x_n) \\in \\mathbb{R}^{n} \\text{ is a local minimum of } f(\\bm{x})\n",
    "\\Leftrightarrow\n",
    "\\exists \\delta > 0 : \\forall \\bm{x}' \\in \\mathbb{R}^{n}, \\|\\bm{x}' - \\bm{x}\\| < \\delta \\Rightarrow f(\\bm{x}') \\ge f(\\bm{x})\n",
    "$$\n",
    "\n",
    "<center>\n",
    "<img src=\"./minimum.png\" width=50%>\n",
    "</center>\n",
    "\n",
    "\n",
    "There are several ways to look for a local minimum:\n",
    "\n",
    "**Trial and error**: just try several values of $\\bm{x}$ to see which one has the smallest $f(\\bm{x})$. No guarantees of finding a minimum really, let alone it being a global minimum. But this is a real approach: systematic forms of this trial-and-error search exist with different names. For example: genetic search, particle swarm optimization, tabu search, etc.\n",
    "\n",
    "**Deriving the value of the minimum using calculus**: if the formula for $f(\\bm{x})$ is known, and simple enough, one could try to find analytically the minima of it.\n",
    "\n",
    "First, take the partial derivative of $f(\\bm{x})$ with respect to each component of $\\bm{x}$. The tuple of all partial derivatives is the *gradient* of $f(\\bm{x})$:\n",
    "\n",
    "$$\n",
    "\\nabla f(\\bm{x}) = \n",
    "\\begin{bmatrix}\n",
    "\\frac{\\partial f}{\\partial x_{1}}\\bm(x) \\\\\n",
    "\\frac{\\partial f}{\\partial x_{2}}\\bm(x) \\\\\n",
    "\\vdots \\\\\n",
    "\\frac{\\partial f}{\\partial x_{n}}\\bm(x)\n",
    "\\end{bmatrix}\n",
    "$$"
   ]
  },
  {
   "cell_type": "markdown",
   "metadata": {},
   "source": []
  }
 ],
 "metadata": {
  "kernelspec": {
   "display_name": "ml",
   "language": "python",
   "name": "python3"
  },
  "language_info": {
   "codemirror_mode": {
    "name": "ipython",
    "version": 3
   },
   "file_extension": ".py",
   "mimetype": "text/x-python",
   "name": "python",
   "nbconvert_exporter": "python",
   "pygments_lexer": "ipython3",
   "version": "3.12.4"
  }
 },
 "nbformat": 4,
 "nbformat_minor": 2
}
